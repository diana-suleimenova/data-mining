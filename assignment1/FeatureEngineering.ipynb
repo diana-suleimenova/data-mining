{
 "cells": [
  {
   "cell_type": "code",
   "execution_count": 10,
   "id": "a63ef403-e9a6-4dff-95e4-edcbaa08667b",
   "metadata": {},
   "outputs": [],
   "source": [
    "import pandas as pd"
   ]
  },
  {
   "cell_type": "code",
   "execution_count": 12,
   "id": "e6b2192b-c46a-4870-a13e-d8dc3ff2e376",
   "metadata": {},
   "outputs": [],
   "source": [
    "df = pd.read_csv('/Users/dianasuleimenova/Documents/dataMining/weight-height.csv')"
   ]
  },
  {
   "cell_type": "code",
   "execution_count": 16,
   "id": "d5c7888d-ed96-4743-93a5-d77e72087b25",
   "metadata": {},
   "outputs": [
    {
     "data": {
      "text/html": [
       "<div>\n",
       "<style scoped>\n",
       "    .dataframe tbody tr th:only-of-type {\n",
       "        vertical-align: middle;\n",
       "    }\n",
       "\n",
       "    .dataframe tbody tr th {\n",
       "        vertical-align: top;\n",
       "    }\n",
       "\n",
       "    .dataframe thead th {\n",
       "        text-align: right;\n",
       "    }\n",
       "</style>\n",
       "<table border=\"1\" class=\"dataframe\">\n",
       "  <thead>\n",
       "    <tr style=\"text-align: right;\">\n",
       "      <th></th>\n",
       "      <th>Weight</th>\n",
       "      <th>Height</th>\n",
       "      <th>BMI</th>\n",
       "    </tr>\n",
       "  </thead>\n",
       "  <tbody>\n",
       "    <tr>\n",
       "      <th>0</th>\n",
       "      <td>241.893563</td>\n",
       "      <td>73.847017</td>\n",
       "      <td>31.182700</td>\n",
       "    </tr>\n",
       "    <tr>\n",
       "      <th>1</th>\n",
       "      <td>162.310473</td>\n",
       "      <td>68.781904</td>\n",
       "      <td>24.118677</td>\n",
       "    </tr>\n",
       "    <tr>\n",
       "      <th>2</th>\n",
       "      <td>212.740856</td>\n",
       "      <td>74.110105</td>\n",
       "      <td>27.230233</td>\n",
       "    </tr>\n",
       "    <tr>\n",
       "      <th>3</th>\n",
       "      <td>220.042470</td>\n",
       "      <td>71.730978</td>\n",
       "      <td>30.064108</td>\n",
       "    </tr>\n",
       "    <tr>\n",
       "      <th>4</th>\n",
       "      <td>206.349801</td>\n",
       "      <td>69.881796</td>\n",
       "      <td>29.705117</td>\n",
       "    </tr>\n",
       "  </tbody>\n",
       "</table>\n",
       "</div>"
      ],
      "text/plain": [
       "       Weight     Height        BMI\n",
       "0  241.893563  73.847017  31.182700\n",
       "1  162.310473  68.781904  24.118677\n",
       "2  212.740856  74.110105  27.230233\n",
       "3  220.042470  71.730978  30.064108\n",
       "4  206.349801  69.881796  29.705117"
      ]
     },
     "execution_count": 16,
     "metadata": {},
     "output_type": "execute_result"
    }
   ],
   "source": [
    "df[\"BMI\"] = df.Weight / df.Height ** 2 *703\n",
    "\n",
    "df[[\"Weight\", \"Height\", \"BMI\"]].head()"
   ]
  },
  {
   "cell_type": "code",
   "execution_count": null,
   "id": "fc409065-a955-414c-9d6f-24ea8c45cbbb",
   "metadata": {},
   "outputs": [],
   "source": [
    "import pandas as pd\n",
    "data = pd.read_csv('/Users/dianasuleimenova/Documents/dataMining/datetime.csv')\n",
    "\n",
    "# Overwriting data after changing the 'Date' format\n",
    "data['Date'] = pd.to_datetime(data['Date']) \n",
    "\n",
    "data.info()\n",
    "print(data.head())\n"
   ]
  }
 ],
 "metadata": {
  "kernelspec": {
   "display_name": "Python 3 (ipykernel)",
   "language": "python",
   "name": "python3"
  },
  "language_info": {
   "codemirror_mode": {
    "name": "ipython",
    "version": 3
   },
   "file_extension": ".py",
   "mimetype": "text/x-python",
   "name": "python",
   "nbconvert_exporter": "python",
   "pygments_lexer": "ipython3",
   "version": "3.12.4"
  }
 },
 "nbformat": 4,
 "nbformat_minor": 5
}
